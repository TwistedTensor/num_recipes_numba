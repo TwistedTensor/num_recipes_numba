{
 "cells": [
  {
   "cell_type": "code",
   "execution_count": 131,
   "metadata": {},
   "outputs": [],
   "source": [
    "import numpy as np\n",
    "from numba import *"
   ]
  },
  {
   "cell_type": "code",
   "execution_count": 42,
   "metadata": {},
   "outputs": [],
   "source": [
    "@jit\n",
    "def _SWAPROW(a,i,j):\n",
    "    temp = a[i,:].copy()\n",
    "    a[i,:] = a[j,:]\n",
    "    a[j,:] = temp\n",
    "    \n",
    "@jit\n",
    "def _SWAPCOL(a,i,j):\n",
    "    temp = a[:,i].copy()\n",
    "    a[:,i] = a[:,j]\n",
    "    a[:,j] = temp"
   ]
  },
  {
   "cell_type": "code",
   "execution_count": 149,
   "metadata": {},
   "outputs": [
    {
     "data": {
      "text/plain": [
       "[9, 8, 7, 6, 5, 4, 3, 2, 1, 0]"
      ]
     },
     "execution_count": 149,
     "metadata": {},
     "output_type": "execute_result"
    }
   ],
   "source": [
    "[i for i in range(10-1,-1,-1)]"
   ]
  },
  {
   "cell_type": "code",
   "execution_count": 423,
   "metadata": {},
   "outputs": [],
   "source": [
    "@jit(void(double[:,:],int32,double[:,:],int32))\n",
    "def gaussj(a,n,b,m):\n",
    "    indxc = np.arange(n)\n",
    "    indxr = np.arange(n)\n",
    "    ipiv = np.zeros(n)\n",
    "    \n",
    "    icol = irow = 0\n",
    "    big = dum = pivint = temp = 0.\n",
    "    for i in range(n):\n",
    "        big = 0.\n",
    "        # search for pivot element\n",
    "        for j in range(n):\n",
    "            if ipiv[j] != 1:\n",
    "                for k in range(n):\n",
    "                    if (ipiv[k] == 0) & (abs(a[j,k]) >= big):\n",
    "                        big = abs(a[j,k])\n",
    "                        irow,icol = (j,k)\n",
    "        ipiv[icol]+=1 # Record the fact that we have pivoted this column\n",
    "        if irow != icol:\n",
    "            _SWAPROW(a,irow,icol)\n",
    "            _SWAPROW(b,irow,icol)\n",
    "            \n",
    "        indxr[i] = irow\n",
    "        indxc[i] = icol\n",
    "        if a[icol,icol]==0.:\n",
    "            raise Exception('gaussj: Singular Matrix')\n",
    "        pivinv = 1./a[icol,icol]\n",
    "        a[icol,icol] = 1.\n",
    "        a[icol,:] *= pivinv\n",
    "        b[icol,:] *= pivinv\n",
    "        \n",
    "        for ll in range(n):\n",
    "            if ll != icol:\n",
    "                dum = a[ll,icol]\n",
    "                a[ll,icol] = 0.\n",
    "                a[ll,:] -= a[icol,:]*dum\n",
    "                b[ll,:] -= b[icol,:]*dum\n",
    "                \n",
    "    for l in range(n-1,-1,-1):\n",
    "        if indxr[l] != indxc[l]:\n",
    "            _SWAPCOL(a,indxr[l],indxc[l])"
   ]
  },
  {
   "cell_type": "code",
   "execution_count": 424,
   "metadata": {},
   "outputs": [],
   "source": [
    "a = np.random.random(size=(4,4))\n",
    "b = np.random.random(size=(4,3))"
   ]
  },
  {
   "cell_type": "code",
   "execution_count": 425,
   "metadata": {},
   "outputs": [
    {
     "data": {
      "text/plain": [
       "array([[0.75556474, 0.45729794, 0.48270322, 0.77507728],\n",
       "       [0.75095197, 0.13266805, 0.43668704, 0.32255593],\n",
       "       [0.1274961 , 0.36598348, 0.90342393, 0.48805857],\n",
       "       [0.60837259, 0.84229974, 0.00693473, 0.58626211]])"
      ]
     },
     "execution_count": 425,
     "metadata": {},
     "output_type": "execute_result"
    }
   ],
   "source": [
    "a"
   ]
  },
  {
   "cell_type": "code",
   "execution_count": 426,
   "metadata": {},
   "outputs": [
    {
     "data": {
      "text/plain": [
       "array([[0.49160113, 0.69136364, 0.79542273],\n",
       "       [0.91251397, 0.1433938 , 0.56118256],\n",
       "       [0.56204361, 0.56090844, 0.6863108 ],\n",
       "       [0.99223553, 0.73816156, 0.51926409]])"
      ]
     },
     "execution_count": 426,
     "metadata": {},
     "output_type": "execute_result"
    }
   ],
   "source": [
    "b"
   ]
  },
  {
   "cell_type": "code",
   "execution_count": 427,
   "metadata": {},
   "outputs": [
    {
     "data": {
      "text/plain": [
       "array([[-0.64639312,  1.83264251, -0.54276019,  0.29811525],\n",
       "       [-2.28959035,  0.57785372,  0.92916396,  1.93553849],\n",
       "       [-1.12793264,  0.98950041,  1.23186986, -0.07873424],\n",
       "       [ 3.97363408, -2.74368305, -0.78629816, -1.38354959]])"
      ]
     },
     "execution_count": 427,
     "metadata": {},
     "output_type": "execute_result"
    }
   ],
   "source": [
    "np.linalg.inv(a)"
   ]
  },
  {
   "cell_type": "code",
   "execution_count": 428,
   "metadata": {},
   "outputs": [
    {
     "data": {
      "text/plain": [
       "array([[ 1.34528995, -0.26848467,  0.29658959],\n",
       "       [ 1.84447512,  0.44983715,  0.14584012],\n",
       "       [ 0.96268166, -0.00507577,  0.46266883],\n",
       "       [-2.36494703,  0.89147456,  0.36293926]])"
      ]
     },
     "execution_count": 428,
     "metadata": {},
     "output_type": "execute_result"
    }
   ],
   "source": [
    "np.linalg.solve(a,b)"
   ]
  },
  {
   "cell_type": "code",
   "execution_count": 429,
   "metadata": {},
   "outputs": [],
   "source": [
    "gaussj(a,4,b,3)"
   ]
  },
  {
   "cell_type": "code",
   "execution_count": 430,
   "metadata": {},
   "outputs": [
    {
     "data": {
      "text/plain": [
       "array([[-0.64639312,  1.83264251, -0.54276019,  0.29811525],\n",
       "       [-2.28959035,  0.57785372,  0.92916396,  1.93553849],\n",
       "       [-1.12793264,  0.98950041,  1.23186986, -0.07873424],\n",
       "       [ 3.97363408, -2.74368305, -0.78629816, -1.38354959]])"
      ]
     },
     "execution_count": 430,
     "metadata": {},
     "output_type": "execute_result"
    }
   ],
   "source": [
    "a"
   ]
  },
  {
   "cell_type": "code",
   "execution_count": 431,
   "metadata": {},
   "outputs": [
    {
     "data": {
      "text/plain": [
       "array([[ 1.34528995, -0.26848467,  0.29658959],\n",
       "       [ 1.84447512,  0.44983715,  0.14584012],\n",
       "       [ 0.96268166, -0.00507577,  0.46266883],\n",
       "       [-2.36494703,  0.89147456,  0.36293926]])"
      ]
     },
     "execution_count": 431,
     "metadata": {},
     "output_type": "execute_result"
    }
   ],
   "source": [
    "b"
   ]
  }
 ],
 "metadata": {
  "kernelspec": {
   "display_name": "Python 3",
   "language": "python",
   "name": "python3"
  },
  "language_info": {
   "codemirror_mode": {
    "name": "ipython",
    "version": 3
   },
   "file_extension": ".py",
   "mimetype": "text/x-python",
   "name": "python",
   "nbconvert_exporter": "python",
   "pygments_lexer": "ipython3",
   "version": "3.6.1"
  }
 },
 "nbformat": 4,
 "nbformat_minor": 2
}
