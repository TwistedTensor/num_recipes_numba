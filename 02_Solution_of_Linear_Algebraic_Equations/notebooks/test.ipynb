{
 "cells": [
  {
   "cell_type": "code",
   "execution_count": 1,
   "metadata": {},
   "outputs": [],
   "source": [
    "import numpy as np\n",
    "%run ../gaussj.py"
   ]
  },
  {
   "cell_type": "code",
   "execution_count": 2,
   "metadata": {},
   "outputs": [],
   "source": [
    "a = np.random.random(size=(4,4))\n",
    "b = np.random.random(size=(4,3))"
   ]
  },
  {
   "cell_type": "code",
   "execution_count": 3,
   "metadata": {},
   "outputs": [
    {
     "data": {
      "text/plain": [
       "array([[0.09803429, 0.00470105, 0.16598382, 0.16288186],\n",
       "       [0.46033607, 0.90335624, 0.60684602, 0.73645238],\n",
       "       [0.48343806, 0.9286728 , 0.89489366, 0.28394927],\n",
       "       [0.12076117, 0.32894532, 0.81764059, 0.42126352]])"
      ]
     },
     "execution_count": 3,
     "metadata": {},
     "output_type": "execute_result"
    }
   ],
   "source": [
    "a"
   ]
  },
  {
   "cell_type": "code",
   "execution_count": 4,
   "metadata": {},
   "outputs": [
    {
     "data": {
      "text/plain": [
       "array([[0.30355319, 0.36957788, 0.34641876],\n",
       "       [0.6779521 , 0.54794141, 0.47397917],\n",
       "       [0.8174115 , 0.16598033, 0.00646055],\n",
       "       [0.05287819, 0.81654833, 0.60811149]])"
      ]
     },
     "execution_count": 4,
     "metadata": {},
     "output_type": "execute_result"
    }
   ],
   "source": [
    "b"
   ]
  },
  {
   "cell_type": "code",
   "execution_count": 5,
   "metadata": {},
   "outputs": [
    {
     "data": {
      "text/plain": [
       "array([[ 8.67812274, -0.80045833,  1.87528679, -3.22006434],\n",
       "       [-5.20383871,  0.97508291,  0.06010159,  0.2669184 ],\n",
       "       [ 0.55240728, -1.06908363,  0.59217254,  1.25623292],\n",
       "       [ 0.5035507 ,  1.54307568, -1.73387022,  0.65021095]])"
      ]
     },
     "execution_count": 5,
     "metadata": {},
     "output_type": "execute_result"
    }
   ],
   "source": [
    "np.linalg.inv(a)"
   ]
  },
  {
   "cell_type": "code",
   "execution_count": 6,
   "metadata": {},
   "outputs": [
    {
     "data": {
      "text/plain": [
       "array([[ 3.45420927,  0.45056048,  0.68082115],\n",
       "       [-0.85534045, -1.1610079 , -1.17783391],\n",
       "       [-0.00662653,  0.74242619,  0.45239631],\n",
       "       [-0.18391765,  1.27475658,  1.29002414]])"
      ]
     },
     "execution_count": 6,
     "metadata": {},
     "output_type": "execute_result"
    }
   ],
   "source": [
    "np.linalg.solve(a,b)"
   ]
  },
  {
   "cell_type": "code",
   "execution_count": 7,
   "metadata": {},
   "outputs": [],
   "source": [
    "gaussj(a,4,b,3)"
   ]
  },
  {
   "cell_type": "code",
   "execution_count": 8,
   "metadata": {},
   "outputs": [
    {
     "data": {
      "text/plain": [
       "array([[ 8.67812274, -0.80045833,  1.87528679, -3.22006434],\n",
       "       [-5.20383871,  0.97508291,  0.06010159,  0.2669184 ],\n",
       "       [ 0.55240728, -1.06908363,  0.59217254,  1.25623292],\n",
       "       [ 0.5035507 ,  1.54307568, -1.73387022,  0.65021095]])"
      ]
     },
     "execution_count": 8,
     "metadata": {},
     "output_type": "execute_result"
    }
   ],
   "source": [
    "a"
   ]
  },
  {
   "cell_type": "code",
   "execution_count": 9,
   "metadata": {},
   "outputs": [
    {
     "data": {
      "text/plain": [
       "array([[ 3.45420927,  0.45056048,  0.68082115],\n",
       "       [-0.85534045, -1.1610079 , -1.17783391],\n",
       "       [-0.00662653,  0.74242619,  0.45239631],\n",
       "       [-0.18391765,  1.27475658,  1.29002414]])"
      ]
     },
     "execution_count": 9,
     "metadata": {},
     "output_type": "execute_result"
    }
   ],
   "source": [
    "b"
   ]
  },
  {
   "cell_type": "code",
   "execution_count": null,
   "metadata": {},
   "outputs": [],
   "source": []
  }
 ],
 "metadata": {
  "kernelspec": {
   "display_name": "Python 3",
   "language": "python",
   "name": "python3"
  },
  "language_info": {
   "codemirror_mode": {
    "name": "ipython",
    "version": 3
   },
   "file_extension": ".py",
   "mimetype": "text/x-python",
   "name": "python",
   "nbconvert_exporter": "python",
   "pygments_lexer": "ipython3",
   "version": "3.6.1"
  }
 },
 "nbformat": 4,
 "nbformat_minor": 2
}
